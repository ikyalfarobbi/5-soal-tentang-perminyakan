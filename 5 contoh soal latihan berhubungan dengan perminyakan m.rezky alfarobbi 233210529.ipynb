{
 "cells": [
  {
   "cell_type": "markdown",
   "metadata": {},
   "source": [
    "1.Pengolahan Data Perminyakan:"
   ]
  },
  {
   "cell_type": "code",
   "execution_count": 2,
   "metadata": {},
   "outputs": [
    {
     "name": "stdout",
     "output_type": "stream",
     "text": [
      "Faktor Volume Formasi (FVF) adalah 1.200\n"
     ]
    }
   ],
   "source": [
    "import pandas as pd\n",
    "import matplotlib.pyplot as plt\n",
    "\n",
    "# Membaca data dari file CSV\n",
    "data = pd.read_csv('data_sumur.csv')\n",
    "\n",
    "# Menampilkan grafik tekanan terhadap suhu\n",
    "plt.plot(data['Suhu'], data['Tekanan'], marker='o')\n",
    "plt.xlabel('Suhu (°C)')\n",
    "plt.ylabel('Tekanan (psi)')\n",
    "plt.title('Grafik Tekanan vs. Suhu')\n",
    "plt.grid(True)\n",
    "plt.show()\n",
    "\n"
   ]
  },
  {
   "cell_type": "markdown",
   "metadata": {},
   "source": [
    "2.Perhitungan Produksi Minyak"
   ]
  },
  {
   "cell_type": "code",
   "execution_count": null,
   "metadata": {},
   "outputs": [],
   "source": [
    "def arps_produksi(jumlah_sumur, usia_sumur, laju_produksi_awal):\n",
    "    qi = laju_produksi_awal  # Laju produksi awal\n",
    "    b = 0.5  # Exponent Arps\n",
    "    d = 365  # Hari dalam setahun\n",
    "\n",
    "    total_produksi = jumlah_sumur * qi * (1 + b * usia_sumur / d) ** (-1 / b)\n",
    "    return total_produksi\n",
    "\n",
    "# Contoh penggunaan fungsi\n",
    "jumlah_sumur = 10\n",
    "usia_sumur = 365 * 2  # Usia sumur dalam hari\n",
    "laju_produksi_awal = 100  # Barel per hari\n",
    "total_produksi = arps_produksi(jumlah_sumur, usia_sumur, laju_produksi_awal)\n",
    "print(\"Total produksi minyak:\", total_produksi, \"barel\")\n"
   ]
  },
  {
   "cell_type": "markdown",
   "metadata": {},
   "source": [
    "3.Analisis Data Reservoir"
   ]
  },
  {
   "cell_type": "code",
   "execution_count": null,
   "metadata": {},
   "outputs": [],
   "source": [
    "import pandas as pd\n",
    "import matplotlib.pyplot as plt\n",
    "\n",
    "# Membaca data dari file CSV\n",
    "data_reservoir = pd.read_csv('data_reservoir.csv')\n",
    "\n",
    "# Menampilkan histogram porositas\n",
    "plt.hist(data_reservoir['Porositas'], bins=20, color='blue', alpha=0.7)\n",
    "plt.xlabel('Porositas')\n",
    "plt.ylabel('Frekuensi')\n",
    "plt.title('Distribusi Porositas Reservoir')\n",
    "plt.grid(True)\n",
    "plt.show()\n",
    "\n",
    "# Menampilkan histogram saturasi air\n",
    "plt.hist(data_reservoir['Saturasi Air'], bins=20, color='green', alpha=0.7)\n",
    "plt.xlabel('Saturasi Air')\n",
    "plt.ylabel('Frekuensi')\n",
    "plt.title('Distribusi Saturasi Air Reservoir')\n",
    "plt.grid(True)\n",
    "plt.show()\n",
    "\n",
    "# Menampilkan histogram permeabilitas\n",
    "plt.hist(data_reservoir['Permeabilitas'], bins=20, color='red', alpha=0.7)\n",
    "plt.xlabel('Permeabilitas')\n",
    "plt.ylabel('Frekuensi')\n",
    "plt.title('Distribusi Permeabilitas Reservoir')\n",
    "plt.grid(True)\n",
    "plt.show()\n"
   ]
  },
  {
   "cell_type": "markdown",
   "metadata": {},
   "source": [
    "4.Prediksi Harga Minyak"
   ]
  },
  {
   "cell_type": "code",
   "execution_count": null,
   "metadata": {},
   "outputs": [],
   "source": [
    "import pandas as pd\n",
    "from sklearn.linear_model import LinearRegression\n",
    "\n",
    "# Membaca data dari file CSV\n",
    "data_harga_minyak = pd.read_csv('data_harga_minyak.csv')\n",
    "\n",
    "# Membagi data menjadi fitur dan target\n",
    "X = data_harga_minyak[['Feature1', 'Feature2', ...]]  # Sesuaikan dengan fitur yang relevan\n",
    "y = data_harga_minyak['Harga Minyak']\n",
    "\n",
    "# Membuat model regresi linier\n",
    "model = LinearRegression()\n",
    "model.fit(X, y)\n",
    "\n",
    "# Prediksi harga minyak untuk satu tahun ke depan\n",
    "prediksi_harga = model.predict([future_feature_values])  # Ganti dengan nilai fitur masa depan\n",
    "print(\"Prediksi harga minyak satu tahun ke depan:\", prediksi_harga)\n"
   ]
  },
  {
   "cell_type": "markdown",
   "metadata": {},
   "source": [
    "5.Optimisasi Penjadwalan Produksi"
   ]
  },
  {
   "cell_type": "code",
   "execution_count": null,
   "metadata": {},
   "outputs": [],
   "source": [
    "import random\n",
    "\n",
    "# Fungsi untuk mengevaluasi kualitas solusi (fitness)\n",
    "def evaluate(solution, target_production, max_pressure, min_pressure):\n",
    "    total_production = sum(solution)\n",
    "    total_pressure = sum(solution) * 0.1  # Contoh: asumsi tekanan per unit produksi\n",
    "    if total_production < target_production or total_pressure > max_pressure or total_pressure < min_pressure:\n",
    "        return 0\n",
    "    else:\n",
    "        return total_production\n",
    "\n",
    "# Fungsi untuk menghasilkan solusi acak\n",
    "def generate_random_solution(num_wells, max_production):\n",
    "    return [random.randint(0, max_production) for _ in range(num_wells)]\n",
    "\n",
    "# Algoritma optimisasi sederhana: hill climbing\n",
    "def hill_climbing(num_wells, target_production, max_pressure, min_pressure, max_iterations):\n",
    "    current_solution = generate_random_solution(num_wells, target_production)\n",
    "    current_fitness = evaluate(current_solution, target_production, max_pressure, min_pressure)\n",
    "    for i in range(max_iterations):\n",
    "        # Generate neighboring solution\n",
    "        neighbor_solution = current_solution.copy()\n",
    "        index_to_modify = random.randint(0, num_wells - 1)\n",
    "        neighbor_solution[index_to_modify] += random.randint(-10, 10)  # Contoh: perubahan produksi maksimum 10 unit\n",
    "        neighbor_fitness = evaluate(neighbor_solution, target_production, max_pressure, min_pressure)\n",
    "        # Update current solution if neighbor is better\n",
    "        if neighbor_fitness > current_fitness:\n",
    "            current_solution = neighbor_solution\n",
    "            current_fitness = neighbor_fitness\n",
    "    return current_solution, current_fitness\n",
    "\n",
    "# Contoh penggunaan algoritma optimisasi\n",
    "num_wells = 5\n",
    "target_production = 500  # Barel per hari\n",
    "max_pressure = 1000  # Contoh: batasan tekanan maksimum\n",
    "min_pressure = 200  # Contoh: batasan tekanan minimum\n",
    "max_iterations = 1000\n",
    "final_solution, final_fitness = hill_climbing(num_wells, target_production, max_pressure, min_pressure, max_iterations)\n",
    "print(\"Solusi terbaik:\", final_solution)\n",
    "print(\"Total produksi:\", final_fitness)\n"
   ]
  }
 ],
 "metadata": {
  "kernelspec": {
   "display_name": "Python 3",
   "language": "python",
   "name": "python3"
  },
  "language_info": {
   "codemirror_mode": {
    "name": "ipython",
    "version": 3
   },
   "file_extension": ".py",
   "mimetype": "text/x-python",
   "name": "python",
   "nbconvert_exporter": "python",
   "pygments_lexer": "ipython3",
   "version": "3.12.2"
  }
 },
 "nbformat": 4,
 "nbformat_minor": 2
}
